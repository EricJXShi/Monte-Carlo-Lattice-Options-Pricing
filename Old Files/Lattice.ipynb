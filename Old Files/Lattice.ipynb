{
 "cells": [
  {
   "cell_type": "code",
   "execution_count": 3,
   "metadata": {
    "id": "SQ78aF0tXkha"
   },
   "outputs": [],
   "source": [
    "import numpy as np\n",
    "from math import sqrt,exp"
   ]
  },
  {
   "cell_type": "code",
   "execution_count": 4,
   "metadata": {
    "id": "hV7BOaB2XsMj"
   },
   "outputs": [],
   "source": [
    "S0 = 100     # spot price of the underlying stock today\n",
    "K = 105      # strike at expiry\n",
    "sigma = 0.25  # volatility\n",
    "r = 0.02     # risk-free rate\n",
    "T = 2/12      # years to expiry"
   ]
  },
  {
   "cell_type": "code",
   "execution_count": 8,
   "metadata": {},
   "outputs": [
    {
     "name": "stdout",
     "output_type": "stream",
     "text": [
      "1.0352767292790188\n"
     ]
    },
    {
     "data": {
      "text/plain": [
       "0.49688063503168617"
      ]
     },
     "execution_count": 8,
     "metadata": {},
     "output_type": "execute_result"
    }
   ],
   "source": [
    "# Lattice Parameter Calclations\n",
    "lattice_unit_time = 1/52\n",
    "u = exp(sigma * sqrt(lattice_unit_time))\n",
    "d = 1/u\n",
    "p = (np.exp(r*lattice_unit_time)-d)/(u-d) # Since expected return is assumed to be zero\n"
   ]
  },
  {
   "cell_type": "code",
   "execution_count": 4,
   "metadata": {},
   "outputs": [],
   "source": [
    "def avg(list):\n",
    "    return sum(list) / len(list)\n",
    "\n",
    "# Uses recursion to explore all possible branches of lattice, and then adds their contributions to the option values\n",
    "def traverse_lattice_options(option_values, time, path, probability):\n",
    "    time += lattice_unit_time\n",
    "    if time > T: \n",
    "        option_values['asian_call_value'] += max(0, avg(path) - K) * probability\n",
    "        option_values['asian_put_value'] += max(0, K - avg(path)) * probability\n",
    "\n",
    "        option_values['lookback_call_value'] += max(0, max(path) - K) * probability\n",
    "        option_values['lookback_put_value'] += max(0, K - min(path)) * probability\n",
    "        \n",
    "        option_values['floating_lookback_call_value'] += max(0, path[-1] - min(path)) * probability\n",
    "        option_values['floating_lookback_put_value'] += max(0, max(path) - path[-1]) * probability\n",
    "    else: \n",
    "        path.append(path[-1] * u)\n",
    "        traverse_lattice_options(option_values, time, path, probability*p)\n",
    "        path.pop()\n",
    "        \n",
    "        path.append(path[-1] * d)\n",
    "        traverse_lattice_options(option_values, time, path, probability*(1-p))\n",
    "        path.pop()\n",
    "\n",
    "# Wrapper function to get option values\n",
    "def get_option_values():\n",
    "    # Initialization\n",
    "    option_values = {'asian_call_value' : 0, \n",
    "                     'asian_put_value' : 0,\n",
    "                     'lookback_call_value' : 0,\n",
    "                     'lookback_put_value' : 0,\n",
    "                     'floating_lookback_call_value' : 0,\n",
    "                     'floating_lookback_put_value' : 0}    \n",
    "    \n",
    "    traverse_lattice_options(option_values, 0, [S0], 1)    \n",
    "    # Normalizing option cash flows by 2-month discount rate\n",
    "    for option_type in option_values:        \n",
    "        option_values[option_type] /= pow(1+r, 1/6)\n",
    "    \n",
    "    return option_values"
   ]
  },
  {
   "cell_type": "code",
   "execution_count": 5,
   "metadata": {},
   "outputs": [
    {
     "name": "stdout",
     "output_type": "stream",
     "text": [
      "{'asian_call_value': 0.6425291611345371, 'asian_put_value': 5.386101289152401, 'lookback_call_value': 3.3923131529403463, 'lookback_put_value': 10.934321028544048, 'floating_lookback_call_value': 6.431038426246864, 'floating_lookback_put_value': 6.211902812425354}\n"
     ]
    }
   ],
   "source": [
    "print (get_option_values())"
   ]
  },
  {
   "cell_type": "code",
   "execution_count": null,
   "metadata": {},
   "outputs": [],
   "source": []
  },
  {
   "cell_type": "code",
   "execution_count": null,
   "metadata": {},
   "outputs": [],
   "source": []
  }
 ],
 "metadata": {
  "colab": {
   "collapsed_sections": [],
   "name": "1022_OptionsPricing.ipynb",
   "provenance": []
  },
  "kernelspec": {
   "display_name": "Python 3 (ipykernel)",
   "language": "python",
   "name": "python3"
  },
  "language_info": {
   "codemirror_mode": {
    "name": "ipython",
    "version": 3
   },
   "file_extension": ".py",
   "mimetype": "text/x-python",
   "name": "python",
   "nbconvert_exporter": "python",
   "pygments_lexer": "ipython3",
   "version": "3.9.7"
  }
 },
 "nbformat": 4,
 "nbformat_minor": 2
}
